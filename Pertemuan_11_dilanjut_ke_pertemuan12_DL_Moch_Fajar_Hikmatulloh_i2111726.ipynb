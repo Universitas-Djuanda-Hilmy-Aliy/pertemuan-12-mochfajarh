{
  "nbformat": 4,
  "nbformat_minor": 0,
  "metadata": {
    "colab": {
      "provenance": []
    },
    "kernelspec": {
      "name": "python3",
      "display_name": "Python 3"
    },
    "language_info": {
      "name": "python"
    }
  },
  "cells": [
    {
      "cell_type": "markdown",
      "source": [
        "# PERTEMUAN 11"
      ],
      "metadata": {
        "id": "LfC2u778CjVU"
      }
    },
    {
      "cell_type": "markdown",
      "source": [
        "<b>Overfitting</b><br>\n",
        "\n",
        "definisi: sebuah fenomena dimana model yang digunakan terlalu cocok atau sesuai dengan data training sehingga kehilangan kemampuan untuk melakukan deteksi pada data baru (data testing)**teks tebal**"
      ],
      "metadata": {
        "id": "3BMkLTpmBiaY"
      }
    },
    {
      "cell_type": "markdown",
      "source": [
        "contoh: ketika hasil training bagus, tapi hasil testingnya buruk"
      ],
      "metadata": {
        "id": "9B9VZbAKBm8s"
      }
    },
    {
      "cell_type": "markdown",
      "source": [
        "Beberapa karakteristik utama terjadinya overfitting:<br>\n",
        "1. Performanya tinggi pada data training, tetapi rendah di testing\n",
        "2. Model yang dibuat terlalu rumit"
      ],
      "metadata": {
        "id": "XBU3-oDdBqAn"
      }
    },
    {
      "cell_type": "markdown",
      "source": [
        "Penyebab Overfitting:<br>\n",
        "1. Data trainingnya terlalu sedikit\n",
        "2. Datanya tidak beragam\n",
        "3. Model terlalu kompleks\n",
        "4. Proses training terlalu lama"
      ],
      "metadata": {
        "id": "FkDY8ii0Bs3U"
      }
    },
    {
      "cell_type": "markdown",
      "source": [
        "Cara Mengatasi overfitting:\n",
        "1. Sediakan data yang banyak\n",
        "2. Menggunakan Dropout\n",
        "3. Cross Validation"
      ],
      "metadata": {
        "id": "o1fpWwy0BvEF"
      }
    },
    {
      "cell_type": "code",
      "source": [
        "import matplotlib.pyplot as plt\n",
        "from tensorflow.keras.datasets import fashion_mnist\n",
        "\n",
        "(train_images,train_labels),(test_images,test_labels) = fashion_mnist.load_data()"
      ],
      "metadata": {
        "id": "fgQ4FfQNByMw"
      },
      "execution_count": 6,
      "outputs": []
    },
    {
      "cell_type": "code",
      "source": [
        "print(\"Ukuran Citra Train\",train_images.shape)\n",
        "print(\"Jumlah Label Train\",train_labels.shape)\n",
        "\n",
        "print(\"Ukuran Citra Test\",test_images.shape)#10.000 itu jumlah gambarnya, 28x28 itu ukuran gambar/citranya\n",
        "print(\"Jumlah Label Test\",test_labels.shape)"
      ],
      "metadata": {
        "colab": {
          "base_uri": "https://localhost:8080/"
        },
        "id": "yI_Jdzu9B2YK",
        "outputId": "3ef0e85b-4c4c-4cd7-dab5-8f8fb62fa021"
      },
      "execution_count": 7,
      "outputs": [
        {
          "output_type": "stream",
          "name": "stdout",
          "text": [
            "Ukuran Citra Train (60000, 28, 28)\n",
            "Jumlah Label Train (60000,)\n",
            "Ukuran Citra Test (10000, 28, 28)\n",
            "Jumlah Label Test (10000,)\n"
          ]
        }
      ]
    },
    {
      "cell_type": "code",
      "source": [
        "print(set(train_labels))"
      ],
      "metadata": {
        "colab": {
          "base_uri": "https://localhost:8080/"
        },
        "id": "C3eep4VjB8Oq",
        "outputId": "44b88157-4129-441c-8bb1-36b143e3b583"
      },
      "execution_count": 8,
      "outputs": [
        {
          "output_type": "stream",
          "name": "stdout",
          "text": [
            "{0, 1, 2, 3, 4, 5, 6, 7, 8, 9}\n"
          ]
        }
      ]
    },
    {
      "cell_type": "code",
      "source": [
        "train_images = train_images.reshape((60000,28 * 28))\n",
        "train_images = train_images.astype(\"float32\") / 255\n",
        "\n",
        "test_images = test_images.reshape((10000,28 * 28))\n",
        "test_images = test_images.astype(\"float32\") / 255"
      ],
      "metadata": {
        "id": "c-jgBfjZB-xS"
      },
      "execution_count": 9,
      "outputs": []
    },
    {
      "cell_type": "code",
      "source": [
        "#Arsitektur Modelnya\n",
        "import tensorflow as tf\n",
        "import numpy as np\n",
        "\n",
        "model = tf.keras.Sequential([\n",
        "    tf.keras.layers.Dense(512, activation = 'relu'),\n",
        "    tf.keras.layers.Dense(10,activation = 'sigmoid')\n",
        "])"
      ],
      "metadata": {
        "id": "j8flPxGMCC2y"
      },
      "execution_count": 10,
      "outputs": []
    },
    {
      "cell_type": "code",
      "source": [
        "model.compile(optimizer ='rmsprop', loss='sparse_categorical_crossentropy', metrics=['accuracy'])"
      ],
      "metadata": {
        "id": "o4JJBzeeCGhj"
      },
      "execution_count": 11,
      "outputs": []
    },
    {
      "cell_type": "code",
      "source": [
        "sampel_train_images = train_images[:100]\n",
        "sampel_train_labels = train_labels[:100]"
      ],
      "metadata": {
        "id": "5mlUcFo1CJRk"
      },
      "execution_count": 12,
      "outputs": []
    },
    {
      "cell_type": "code",
      "source": [
        "sampel_train_images.shape"
      ],
      "metadata": {
        "colab": {
          "base_uri": "https://localhost:8080/"
        },
        "id": "QkEcVRFbCMIF",
        "outputId": "bddf6bd0-0e99-483e-ce82-00f3213afaae"
      },
      "execution_count": 13,
      "outputs": [
        {
          "output_type": "execute_result",
          "data": {
            "text/plain": [
              "(100, 784)"
            ]
          },
          "metadata": {},
          "execution_count": 13
        }
      ]
    },
    {
      "cell_type": "code",
      "source": [
        "model.fit(sampel_train_images,sampel_train_labels, epochs= 10, batch_size=128)"
      ],
      "metadata": {
        "colab": {
          "base_uri": "https://localhost:8080/"
        },
        "id": "0clixACECPab",
        "outputId": "3b00061c-b187-43a6-916f-78c9b0c7b802"
      },
      "execution_count": 14,
      "outputs": [
        {
          "output_type": "stream",
          "name": "stdout",
          "text": [
            "Epoch 1/10\n",
            "1/1 [==============================] - 1s 610ms/step - loss: 2.4897 - accuracy: 0.0600\n",
            "Epoch 2/10\n",
            "1/1 [==============================] - 0s 21ms/step - loss: 1.8225 - accuracy: 0.3900\n",
            "Epoch 3/10\n",
            "1/1 [==============================] - 0s 21ms/step - loss: 1.7085 - accuracy: 0.3600\n",
            "Epoch 4/10\n",
            "1/1 [==============================] - 0s 18ms/step - loss: 1.4738 - accuracy: 0.6300\n",
            "Epoch 5/10\n",
            "1/1 [==============================] - 0s 21ms/step - loss: 1.0509 - accuracy: 0.6600\n",
            "Epoch 6/10\n",
            "1/1 [==============================] - 0s 18ms/step - loss: 0.8691 - accuracy: 0.7700\n",
            "Epoch 7/10\n",
            "1/1 [==============================] - 0s 17ms/step - loss: 0.8594 - accuracy: 0.7400\n",
            "Epoch 8/10\n",
            "1/1 [==============================] - 0s 19ms/step - loss: 0.8300 - accuracy: 0.7500\n",
            "Epoch 9/10\n",
            "1/1 [==============================] - 0s 19ms/step - loss: 0.7076 - accuracy: 0.7700\n",
            "Epoch 10/10\n",
            "1/1 [==============================] - 0s 23ms/step - loss: 0.6603 - accuracy: 0.8000\n"
          ]
        },
        {
          "output_type": "execute_result",
          "data": {
            "text/plain": [
              "<keras.src.callbacks.History at 0x7edaa8307610>"
            ]
          },
          "metadata": {},
          "execution_count": 14
        }
      ]
    },
    {
      "cell_type": "code",
      "source": [
        "prediksi = model(test_images)\n",
        "prediksi = prediksi.numpy() #supaya hasilnya array\n",
        "prediksi_label = np.argmax(prediksi,axis=1)\n",
        "prediksi_betul = prediksi_label == test_labels\n",
        "print(f\"akurasi hasil data test :{prediksi_betul.mean():.2f}\")"
      ],
      "metadata": {
        "colab": {
          "base_uri": "https://localhost:8080/"
        },
        "id": "j5YoRelbCSxy",
        "outputId": "2485865c-2c3d-4331-d581-dd520431954b"
      },
      "execution_count": 15,
      "outputs": [
        {
          "output_type": "stream",
          "name": "stdout",
          "text": [
            "akurasi hasil data test :0.66\n"
          ]
        }
      ]
    },
    {
      "cell_type": "markdown",
      "source": [
        "Pembuatan Model yang lebih Deep"
      ],
      "metadata": {
        "id": "CGXcLRRECWQf"
      }
    },
    {
      "cell_type": "code",
      "source": [
        "#Arsitektur Modelnya\n",
        "import tensorflow as tf\n",
        "import numpy as np\n",
        "\n",
        "model_kedua = tf.keras.Sequential([\n",
        "    tf.keras.layers.Dense(512, activation = 'relu'),\n",
        "    tf.keras.layers.Dropout(0.5),\n",
        "    tf.keras.layers.Dense(256, activation = 'relu'),\n",
        "    tf.keras.layers.Dropout(0.5),\n",
        "    tf.keras.layers.Dense(128, activation = 'relu'),\n",
        "    tf.keras.layers.Dense(64, activation = 'relu'),\n",
        "    tf.keras.layers.Dense(32, activation = 'relu'),\n",
        "    tf.keras.layers.Dense(10,activation = 'sigmoid')\n",
        "])"
      ],
      "metadata": {
        "id": "xVAZVDM9CW9r"
      },
      "execution_count": 16,
      "outputs": []
    },
    {
      "cell_type": "code",
      "source": [
        "model_kedua.compile(optimizer ='rmsprop', loss='sparse_categorical_crossentropy', metrics=['accuracy'])"
      ],
      "metadata": {
        "id": "LczUijjoCbK6"
      },
      "execution_count": 17,
      "outputs": []
    },
    {
      "cell_type": "code",
      "source": [
        "model_kedua.fit(train_images,train_labels, epochs= 10, batch_size=256)"
      ],
      "metadata": {
        "colab": {
          "base_uri": "https://localhost:8080/"
        },
        "id": "I-6bSfBmCfbR",
        "outputId": "44dcd34f-93a8-485b-d436-4764002a6853"
      },
      "execution_count": 18,
      "outputs": [
        {
          "output_type": "stream",
          "name": "stdout",
          "text": [
            "Epoch 1/10\n",
            "235/235 [==============================] - 6s 22ms/step - loss: 0.8120 - accuracy: 0.6969\n",
            "Epoch 2/10\n",
            "235/235 [==============================] - 7s 28ms/step - loss: 0.5171 - accuracy: 0.8120\n",
            "Epoch 3/10\n",
            "235/235 [==============================] - 5s 22ms/step - loss: 0.4598 - accuracy: 0.8322\n",
            "Epoch 4/10\n",
            "235/235 [==============================] - 6s 25ms/step - loss: 0.4298 - accuracy: 0.8445\n",
            "Epoch 5/10\n",
            "235/235 [==============================] - 7s 28ms/step - loss: 0.4083 - accuracy: 0.8517\n",
            "Epoch 6/10\n",
            "235/235 [==============================] - 5s 22ms/step - loss: 0.3932 - accuracy: 0.8576\n",
            "Epoch 7/10\n",
            "235/235 [==============================] - 7s 29ms/step - loss: 0.3813 - accuracy: 0.8635\n",
            "Epoch 8/10\n",
            "235/235 [==============================] - 5s 22ms/step - loss: 0.3707 - accuracy: 0.8637\n",
            "Epoch 9/10\n",
            "235/235 [==============================] - 7s 30ms/step - loss: 0.3615 - accuracy: 0.8695\n",
            "Epoch 10/10\n",
            "235/235 [==============================] - 5s 22ms/step - loss: 0.3564 - accuracy: 0.8695\n"
          ]
        },
        {
          "output_type": "execute_result",
          "data": {
            "text/plain": [
              "<keras.src.callbacks.History at 0x7eda99323850>"
            ]
          },
          "metadata": {},
          "execution_count": 18
        }
      ]
    },
    {
      "cell_type": "code",
      "source": [
        "model_kedua.summary()"
      ],
      "metadata": {
        "colab": {
          "base_uri": "https://localhost:8080/"
        },
        "id": "woIgn_GNCp_F",
        "outputId": "a367dc45-a87c-4c59-a1cc-457fdd825880"
      },
      "execution_count": 19,
      "outputs": [
        {
          "output_type": "stream",
          "name": "stdout",
          "text": [
            "Model: \"sequential_1\"\n",
            "_________________________________________________________________\n",
            " Layer (type)                Output Shape              Param #   \n",
            "=================================================================\n",
            " dense_2 (Dense)             (None, 512)               401920    \n",
            "                                                                 \n",
            " dropout (Dropout)           (None, 512)               0         \n",
            "                                                                 \n",
            " dense_3 (Dense)             (None, 256)               131328    \n",
            "                                                                 \n",
            " dropout_1 (Dropout)         (None, 256)               0         \n",
            "                                                                 \n",
            " dense_4 (Dense)             (None, 128)               32896     \n",
            "                                                                 \n",
            " dense_5 (Dense)             (None, 64)                8256      \n",
            "                                                                 \n",
            " dense_6 (Dense)             (None, 32)                2080      \n",
            "                                                                 \n",
            " dense_7 (Dense)             (None, 10)                330       \n",
            "                                                                 \n",
            "=================================================================\n",
            "Total params: 576810 (2.20 MB)\n",
            "Trainable params: 576810 (2.20 MB)\n",
            "Non-trainable params: 0 (0.00 Byte)\n",
            "_________________________________________________________________\n"
          ]
        }
      ]
    },
    {
      "cell_type": "code",
      "source": [
        "prediksi = model_kedua(test_images)\n",
        "prediksi = prediksi.numpy() #supaya hasilnya array\n",
        "prediksi_label = np.argmax(prediksi,axis=1)\n",
        "prediksi_betul = prediksi_label == test_labels\n",
        "print(f\"akurasi hasil data test :{prediksi_betul.mean():.2f}\")"
      ],
      "metadata": {
        "colab": {
          "base_uri": "https://localhost:8080/"
        },
        "id": "-NSuk2zMC08x",
        "outputId": "aa8a6ceb-5f81-4991-c0df-5719e9a41340"
      },
      "execution_count": 20,
      "outputs": [
        {
          "output_type": "stream",
          "name": "stdout",
          "text": [
            "akurasi hasil data test :0.85\n"
          ]
        }
      ]
    },
    {
      "cell_type": "markdown",
      "source": [
        "Tujuan Dropout adalah untuk mencegah terjadinya overfitting."
      ],
      "metadata": {
        "id": "zlFSiXDSC30i"
      }
    },
    {
      "cell_type": "markdown",
      "source": [
        "Pretrained Model (Model yang sudah dilatih)"
      ],
      "metadata": {
        "id": "5wTIWseYC81A"
      }
    },
    {
      "cell_type": "code",
      "source": [
        "model_kedua.save('model_Moch_Fajar_H.h5')"
      ],
      "metadata": {
        "colab": {
          "base_uri": "https://localhost:8080/"
        },
        "id": "NFBZKumhC7DA",
        "outputId": "1c816f2f-6373-4e23-9704-f9fd9e3f49ca"
      },
      "execution_count": 21,
      "outputs": [
        {
          "output_type": "stream",
          "name": "stderr",
          "text": [
            "/usr/local/lib/python3.10/dist-packages/keras/src/engine/training.py:3103: UserWarning: You are saving your model as an HDF5 file via `model.save()`. This file format is considered legacy. We recommend using instead the native Keras format, e.g. `model.save('my_model.keras')`.\n",
            "  saving_api.save_model(\n"
          ]
        }
      ]
    },
    {
      "cell_type": "markdown",
      "source": [
        "#PERTEMUAN 12"
      ],
      "metadata": {
        "id": "qZO5EcMdCrBh"
      }
    },
    {
      "cell_type": "markdown",
      "source": [
        "##Pre-Trained Model"
      ],
      "metadata": {
        "id": "vb3AzCf-AcyI"
      }
    },
    {
      "cell_type": "markdown",
      "source": [
        "menggunakan model yang sudah dilatih"
      ],
      "metadata": {
        "id": "WqWEPAhiAgXm"
      }
    },
    {
      "cell_type": "code",
      "execution_count": 22,
      "metadata": {
        "id": "yw0lnsE0A_eo"
      },
      "outputs": [],
      "source": [
        "import matplotlib.pyplot as plt\n",
        "from tensorflow.keras.datasets import fashion_mnist\n",
        "\n",
        "(train_images,train_labels),(test_images,test_labels) = fashion_mnist.load_data()"
      ]
    },
    {
      "cell_type": "code",
      "source": [
        "train_images = train_images.reshape((60000,28 * 28))\n",
        "train_images = train_images.astype(\"float32\") / 255\n",
        "\n",
        "test_images = test_images.reshape((10000,28 * 28))\n",
        "test_images = test_images.astype(\"float32\") / 255"
      ],
      "metadata": {
        "id": "y7V-YdPpA9rj"
      },
      "execution_count": 23,
      "outputs": []
    },
    {
      "cell_type": "code",
      "source": [
        "from tensorflow.keras.models import load_model"
      ],
      "metadata": {
        "id": "OPP2MYeCBA9e"
      },
      "execution_count": 24,
      "outputs": []
    },
    {
      "cell_type": "code",
      "source": [
        "pretrained_model = load_model('model_Moch_Fajar_H.h5')"
      ],
      "metadata": {
        "id": "UQ2GJkLfBDXt"
      },
      "execution_count": 25,
      "outputs": []
    },
    {
      "cell_type": "code",
      "source": [
        "import numpy as np"
      ],
      "metadata": {
        "id": "NOhGIJgRDU9p"
      },
      "execution_count": 26,
      "outputs": []
    },
    {
      "cell_type": "code",
      "source": [
        "prediksi = pretrained_model(test_images)\n",
        "prediksi = prediksi.numpy() #supaya hasilnya array\n",
        "prediksi_label = np.argmax(prediksi,axis=1)\n",
        "prediksi_betul = prediksi_label == test_labels\n",
        "print(f\"akurasi hasil data test :{prediksi_betul.mean():.2f}\")"
      ],
      "metadata": {
        "colab": {
          "base_uri": "https://localhost:8080/"
        },
        "id": "YzSI_0D-DYwn",
        "outputId": "22651e0c-507b-4964-db33-fce88fd10c45"
      },
      "execution_count": 27,
      "outputs": [
        {
          "output_type": "stream",
          "name": "stdout",
          "text": [
            "akurasi hasil data test :0.85\n"
          ]
        }
      ]
    },
    {
      "cell_type": "markdown",
      "source": [
        "## Underfitting"
      ],
      "metadata": {
        "id": "161XBhoUBfyZ"
      }
    },
    {
      "cell_type": "markdown",
      "source": [
        "definisi : situasi dimana model tidak dapat menangkap pola yang cukup proses training <br>\n",
        "\n",
        "Penyebab:\n",
        "1. Modelnya terlalu sederhana\n",
        "2. Data training terbatas\n",
        "3. Proses Training tidak cukup\n",
        "4. Parameter training tidak sesuai"
      ],
      "metadata": {
        "id": "qb0I2SnoDeoY"
      }
    },
    {
      "cell_type": "markdown",
      "source": [
        "Cara mengatasi:\n",
        "1. Meningkatkan kompleksitas model\n",
        "2. Datanya lebih banyak dan representatif\n",
        "3. Menyesuaikan parameter"
      ],
      "metadata": {
        "id": "T0BtHEu-DgpP"
      }
    },
    {
      "cell_type": "code",
      "source": [
        "#Arsitektur Modelnya\n",
        "import tensorflow as tf\n",
        "import numpy as np\n",
        "\n",
        "model_kedua = tf.keras.Sequential([\n",
        "        tf.keras.layers.Dense(10, activation = 'relu'),\n",
        "])"
      ],
      "metadata": {
        "id": "uCt0WZE3DiYX"
      },
      "execution_count": 28,
      "outputs": []
    },
    {
      "cell_type": "code",
      "source": [
        "model_kedua.compile(optimizer ='rmsprop', loss='sparse_categorical_crossentropy', metrics=['accuracy'])"
      ],
      "metadata": {
        "id": "Pe5KvsOqDkrM"
      },
      "execution_count": 29,
      "outputs": []
    },
    {
      "cell_type": "code",
      "source": [
        "model_kedua.fit(train_images,train_labels, epochs= 3, batch_size=124)"
      ],
      "metadata": {
        "colab": {
          "base_uri": "https://localhost:8080/"
        },
        "id": "P5s5A8jmDmyu",
        "outputId": "8ddbb355-678a-4f26-bab1-a5f27d29c179"
      },
      "execution_count": 30,
      "outputs": [
        {
          "output_type": "stream",
          "name": "stdout",
          "text": [
            "Epoch 1/3\n",
            "484/484 [==============================] - 2s 3ms/step - loss: 2.3685 - accuracy: 0.1032\n",
            "Epoch 2/3\n",
            "484/484 [==============================] - 2s 4ms/step - loss: 2.3024 - accuracy: 0.1001\n",
            "Epoch 3/3\n",
            "484/484 [==============================] - 1s 3ms/step - loss: 2.3027 - accuracy: 0.1000\n"
          ]
        },
        {
          "output_type": "execute_result",
          "data": {
            "text/plain": [
              "<keras.src.callbacks.History at 0x7eda9a5eabf0>"
            ]
          },
          "metadata": {},
          "execution_count": 30
        }
      ]
    },
    {
      "cell_type": "markdown",
      "source": [
        "## Learning Rate"
      ],
      "metadata": {
        "id": "_T2RlWyTD0AX"
      }
    },
    {
      "cell_type": "markdown",
      "source": [
        "Definisi:\n",
        "Merupakan parameter penting dalam proses training, Learning rate merupakan nilai yang menentukan seberapa besar penyesuaian yang dilakukan pada bobot (weight) model pada setiap proses training"
      ],
      "metadata": {
        "id": "Axs62IdjDxtf"
      }
    },
    {
      "cell_type": "markdown",
      "source": [
        "Learning rate mengontrol seberapa cepat atau lambat model untuk belajar.\n",
        "jika nilai learning rate tinggi, dapat menyebabkan model model cepat belajar, tapi beresiko melewatkan kesalahan.\n",
        "Jika learning ratenya rendah, maka model akan belajar lebih hati-hati, tetapi proses pembelajaran menjadi lebih lambat."
      ],
      "metadata": {
        "id": "a8tqs7HkD4I-"
      }
    },
    {
      "cell_type": "code",
      "source": [
        "#Arsitektur Modelnya\n",
        "import tensorflow as tf\n",
        "import numpy as np\n",
        "\n",
        "model_kedua = tf.keras.Sequential([\n",
        "    tf.keras.layers.Dense(512, activation = 'relu'),\n",
        "    tf.keras.layers.Dropout(0.5),\n",
        "    tf.keras.layers.Dense(256, activation = 'relu'),\n",
        "    tf.keras.layers.Dropout(0.5),\n",
        "    tf.keras.layers.Dense(128, activation = 'relu'),\n",
        "    tf.keras.layers.Dense(64, activation = 'relu'),\n",
        "    tf.keras.layers.Dense(32, activation = 'relu'),\n",
        "    tf.keras.layers.Dense(10,activation = 'sigmoid')\n",
        "])"
      ],
      "metadata": {
        "id": "4M6RqSt4D4nu"
      },
      "execution_count": 31,
      "outputs": []
    },
    {
      "cell_type": "code",
      "source": [
        "learning_rate1 = 0.001"
      ],
      "metadata": {
        "id": "b6NJbLMWD9FN"
      },
      "execution_count": 32,
      "outputs": []
    },
    {
      "cell_type": "code",
      "source": [
        "model_kedua.compile(optimizer =tf.keras.optimizers.RMSprop(learning_rate = learning_rate1), loss='sparse_categorical_crossentropy', metrics=['accuracy'])"
      ],
      "metadata": {
        "id": "eoT2k02bD_KW"
      },
      "execution_count": 33,
      "outputs": []
    },
    {
      "cell_type": "code",
      "source": [
        "model_kedua.fit(train_images,train_labels, epochs= 10, batch_size=256)"
      ],
      "metadata": {
        "colab": {
          "base_uri": "https://localhost:8080/"
        },
        "id": "yKE612bVEBTd",
        "outputId": "7d7a1e83-bc80-44cd-90bd-e64b2506adc2"
      },
      "execution_count": 34,
      "outputs": [
        {
          "output_type": "stream",
          "name": "stdout",
          "text": [
            "Epoch 1/10\n",
            "235/235 [==============================] - 7s 28ms/step - loss: 0.8189 - accuracy: 0.6941\n",
            "Epoch 2/10\n",
            "235/235 [==============================] - 5s 22ms/step - loss: 0.5185 - accuracy: 0.8121\n",
            "Epoch 3/10\n",
            "235/235 [==============================] - 6s 26ms/step - loss: 0.4599 - accuracy: 0.8333\n",
            "Epoch 4/10\n",
            "235/235 [==============================] - 6s 24ms/step - loss: 0.4314 - accuracy: 0.8448\n",
            "Epoch 5/10\n",
            "235/235 [==============================] - 5s 22ms/step - loss: 0.4070 - accuracy: 0.8522\n",
            "Epoch 6/10\n",
            "235/235 [==============================] - 7s 28ms/step - loss: 0.3926 - accuracy: 0.8580\n",
            "Epoch 7/10\n",
            "235/235 [==============================] - 5s 22ms/step - loss: 0.3774 - accuracy: 0.8621\n",
            "Epoch 8/10\n",
            "235/235 [==============================] - 6s 27ms/step - loss: 0.3671 - accuracy: 0.8663\n",
            "Epoch 9/10\n",
            "235/235 [==============================] - 5s 22ms/step - loss: 0.3587 - accuracy: 0.8705\n",
            "Epoch 10/10\n",
            "235/235 [==============================] - 5s 22ms/step - loss: 0.3508 - accuracy: 0.8713\n"
          ]
        },
        {
          "output_type": "execute_result",
          "data": {
            "text/plain": [
              "<keras.src.callbacks.History at 0x7eda9a356f20>"
            ]
          },
          "metadata": {},
          "execution_count": 34
        }
      ]
    }
  ]
}